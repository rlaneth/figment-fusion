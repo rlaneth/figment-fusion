{
  "cells": [
    {
      "cell_type": "markdown",
      "metadata": {
        "id": "L-ucZBHAfk3n"
      },
      "source": [
        "# Figment Fusion"
      ]
    },
    {
      "cell_type": "markdown",
      "metadata": {
        "id": "Ar04U3MfCZ91"
      },
      "source": [
        "`v1.0.0-alpha.1`\n",
        "\n",
        "This is a pre-release version of Figment Fusion. You are welcome to share your feedback and contribute on [GitHub](https://github.com/rlaneth/figment-fusion)."
      ]
    },
    {
      "cell_type": "markdown",
      "metadata": {
        "id": "Jsa1DVu67pJ-"
      },
      "source": [
        "---"
      ]
    },
    {
      "cell_type": "markdown",
      "metadata": {
        "id": "9X98ERicP5PK"
      },
      "source": [
        "Hello there! 👋\n",
        "\n",
        "You've arrived at Figment Fusion, your way into the world of AI-based image generation!\n",
        "\n",
        "This is a Colab notebook is intended for technology enthusiasts and is designed to provide insights on the process of running [Stable Diffusion](https://stability.ai/blog/stable-diffusion-announcement) with the [Diffusers library](https://github.com/huggingface/diffusers), allowing for exploration and customization while still remaining simple and fun to use.\n",
        "\n",
        "Stable Diffusion is a state-of-the-art, free and open text-to-image model created by researchers from [CompVis](https://github.com/CompVis) and [Runway](https://runwayml.com/), with support from [Eleuther AI](https://www.eleuther.ai/), [LAION](https://laion.ai/) and [Stability AI](https://stability.ai/).\n",
        "\n",
        "The Diffusers library by Hugging Face is used here with inspiration from the [Stable Diffusion with Diffusers](https://colab.research.google.com/github/huggingface/notebooks/blob/main/diffusers/stable_diffusion.ipynb) demo."
      ]
    },
    {
      "cell_type": "markdown",
      "metadata": {
        "id": "o1NQ5OLNfm1d"
      },
      "source": [
        "## 🌱 Getting Started"
      ]
    },
    {
      "cell_type": "markdown",
      "metadata": {
        "id": "pN7pjIGsYUmW"
      },
      "source": [
        "Please execute all the steps in this notebook in the order they appear. Executing them out of order may cause errors or unexpected behavior.\n",
        "\n",
        "Running the following code snippet is optional, but it helps you assert that you are connected to an appropriate runtime and allows you to discover which GPU type has been assigned for your current session."
      ]
    },
    {
      "cell_type": "code",
      "execution_count": null,
      "metadata": {
        "id": "9xlKQv-cgd5e"
      },
      "outputs": [],
      "source": [
        "!nvidia-smi -L"
      ]
    },
    {
      "cell_type": "markdown",
      "metadata": {
        "id": "W5Gn4-sMY4sV"
      },
      "source": [
        "The T4 and the P100 are two of the most frequently seen GPUs on Google Colab, the latter being faster and providing more VRAM than the former. It should be kept in mind that the [Google Colab FAQ](https://research.google.com/colaboratory/faq.html) states that the available GPU types may vary over time and, although access to resources is never guaranteed, users with an active subscription to the Pro and Pro+ tiers get priority access to the faster types."
      ]
    },
    {
      "cell_type": "markdown",
      "metadata": {
        "id": "mY99c9mkqswS"
      },
      "source": [
        "## ⚙️ Settings"
      ]
    },
    {
      "cell_type": "markdown",
      "metadata": {
        "id": "UWu5s6SLjy6t"
      },
      "source": [
        "### Google Drive"
      ]
    },
    {
      "cell_type": "markdown",
      "metadata": {
        "id": "frIaNdnTGblo"
      },
      "source": [
        "The Google Drive integration, which is required for storing the Stable Diffusion model and, optionally, the generated images, may be configured via the following settings."
      ]
    },
    {
      "cell_type": "code",
      "execution_count": null,
      "metadata": {
        "cellView": "form",
        "id": "zWHJNktHGTN3"
      },
      "outputs": [],
      "source": [
        "#@title Base path\n",
        "\n",
        "#@markdown The following parameter specifies which folder on Google Drive will be used to store all\n",
        "#@markdown the data associated with Figment Fusion.\n",
        "\n",
        "drive_base_path = '/Colab Data/Figment' #@param { \"type\": \"string\" }"
      ]
    },
    {
      "cell_type": "code",
      "execution_count": null,
      "metadata": {
        "cellView": "form",
        "id": "LOK2Q86dF9Vh"
      },
      "outputs": [],
      "source": [
        "#@title Output\n",
        "\n",
        "#@markdown The `drive_output_path` parameter determines at which folder within `drive_base_path` the\n",
        "#@markdown generated images will be saved to. However, if `drive_output_autosave` is disabled, no\n",
        "#@markdown output will be saved at all.\n",
        "\n",
        "drive_output_path = '/output' #@param { \"type\": \"string\" }\n",
        "drive_output_autosave = False #@param { \"type\": \"boolean\" }"
      ]
    },
    {
      "cell_type": "code",
      "execution_count": null,
      "metadata": {
        "cellView": "form",
        "id": "DXcENt30GCyI"
      },
      "outputs": [],
      "source": [
        "#@title Model\n",
        "\n",
        "#@markdown These parameters determine at which folder within `drive_base_path` the Stable Diffusion\n",
        "#@markdown model files will be stored. If you are running this notebook for the first time, you\n",
        "#@markdown might need to enable `drive_model_download` so the files will be automatically retrieved\n",
        "#@markdown from the [Hugging Face repository](https://huggingface.co/CompVis/stable-diffusion-v1-4).\n",
        "\n",
        "drive_model_path = '/model' #@param { \"type\": \"string\" }\n",
        "drive_model_download_missing = True #@param { \"type\": \"boolean\" }\n",
        "\n",
        "drive_prefix_path = '/MyDrive'\n",
        "drive_mount_path = '/content/drive'\n",
        "\n",
        "drive_full_base_path = drive_mount_path + drive_prefix_path + drive_base_path\n",
        "drive_full_model_path = drive_full_base_path + drive_model_path\n",
        "drive_full_output_path = drive_full_base_path + drive_output_path"
      ]
    },
    {
      "cell_type": "markdown",
      "metadata": {
        "id": "LNLULR9ijqug"
      },
      "source": [
        "### Miscellaneous"
      ]
    },
    {
      "cell_type": "code",
      "execution_count": null,
      "metadata": {
        "cellView": "form",
        "id": "uN19piSd26Zl"
      },
      "outputs": [],
      "source": [
        "#@title Model\n",
        "\n",
        "MODEL_MAP = {\n",
        "  'Stable Diffusion v1.1': ['CompVis/stable-diffusion-v1-1', 'main'],\n",
        "  'Stable Diffusion v1.2': ['CompVis/stable-diffusion-v1-2', 'main'],\n",
        "  'Stable Diffusion v1.3': ['CompVis/stable-diffusion-v1-3', 'main'],\n",
        "  'Stable Diffusion v1.4': ['CompVis/stable-diffusion-v1-4', 'main'],\n",
        "  'Waifu Diffusion': ['hakurei/waifu-diffusion', 'main'],\n",
        "  'FP16 - Stable Diffusion v1.1': ['CompVis/stable-diffusion-v1-1', 'fp16'],\n",
        "  'FP16 - Stable Diffusion v1.2': ['CompVis/stable-diffusion-v1-2', 'fp16'],\n",
        "  'FP16 - Stable Diffusion v1.3': ['CompVis/stable-diffusion-v1-3', 'fp16'],\n",
        "  'FP16 - Stable Diffusion v1.4': ['CompVis/stable-diffusion-v1-4', 'fp16'],\n",
        "  'FP16 - Waifu Diffusion': ['hakurei/waifu-diffusion', 'fp16']\n",
        "}\n",
        "\n",
        "#@markdown Here you can choose which model to be used for image generation. \n",
        "\n",
        "#@markdown Note that for retrieving each model, you are required to have an account on the\n",
        "#@markdown [Hugging Face](https://huggingface.co/join) website and accept the terms on the\n",
        "#@markdown corresponding repository, or else the download step will fail. For instance, if you wish\n",
        "#@markdown to use Stable Diffusion v1.4 and is downloading it for the first time, you must accept\n",
        "#@markdown the terms on [CompVis/stable-diffusion-v1-4](https://huggingface.co/CompVis/stable-diffusion-v1-4).\n",
        "\n",
        "#@markdown The older versions of Stable Diffusion are made available here for experimental purposes.\n",
        "\n",
        "#@markdown The half precision (`fp16`) variants of each model consume less VRAM, which is useful for\n",
        "#@markdown running on less powerful GPUs such as the ones usually made available for users on the\n",
        "#@markdown free tier of Colab.\n",
        "\n",
        "#@markdown [Waifu Diffusion](https://huggingface.co/hakurei/waifu-diffusion) is a model based on\n",
        "#@markdown Stable Diffusion v1.4 and fine-tuned for anime style art.\n",
        "\n",
        "use_model = \"FP16 - Stable Diffusion v1.4\" #@param [\"Stable Diffusion v1.1\", \"Stable Diffusion v1.2\", \"Stable Diffusion v1.3\", \"Stable Diffusion v1.4\", \"Waifu Diffusion\", \"FP16 - Stable Diffusion v1.1\", \"FP16 - Stable Diffusion v1.2\", \"FP16 - Stable Diffusion v1.3\", \"FP16 - Stable Diffusion v1.4\", \"FP16 - Waifu Diffusion\"]\n",
        "\n",
        "model_clone_repository = MODEL_MAP[use_model][0]\n",
        "model_clone_branch = MODEL_MAP[use_model][1]"
      ]
    },
    {
      "cell_type": "code",
      "execution_count": null,
      "metadata": {
        "cellView": "form",
        "id": "lw44_u3NfguE"
      },
      "outputs": [],
      "source": [
        "#@title Safety filter\n",
        "\n",
        "#@markdown By default, if generated content is determined to be unsafe (e.g. sexually explicit), it\n",
        "#@markdown will not be shown or saved, being replaced with a black image instead. The following\n",
        "#@markdown parameter allows you to chose whether to keep this feature enabled.\n",
        "\n",
        "enable_safety_filter = True #@param { \"type\": \"boolean\" }"
      ]
    },
    {
      "cell_type": "markdown",
      "metadata": {
        "id": "iIyb-jUuh9fz"
      },
      "source": [
        "## 👮 Permissions"
      ]
    },
    {
      "cell_type": "code",
      "execution_count": null,
      "metadata": {
        "cellView": "form",
        "id": "lrhr5uR2iOYp"
      },
      "outputs": [],
      "source": [
        "#@title Google Drive { vertical-output: true }\n",
        "\n",
        "#@markdown This step will require permission for accessing your files on Google\n",
        "#@markdown Drive from within the Colab environment in order to store model files\n",
        "#@markdown and, optionally, your generated images.\n",
        "\n",
        "from google.colab import drive\n",
        "from pathlib import Path\n",
        "\n",
        "# Mount Google Drive folder in the Colab environment\n",
        "drive.mount(drive_mount_path, force_remount=True)\n",
        "\n",
        "# Create model and output path if they do not exist\n",
        "Path(drive_full_model_path).mkdir(parents=True, exist_ok=True)\n",
        "Path(drive_full_output_path).mkdir(parents=True, exist_ok=True)"
      ]
    },
    {
      "cell_type": "code",
      "execution_count": null,
      "metadata": {
        "cellView": "form",
        "id": "zE4-PiyMhUYd"
      },
      "outputs": [],
      "source": [
        "#@title Hugging Face { vertical-output: true }\n",
        "\n",
        "#@markdown This step requires a Hugging Face access token which can be obtained on\n",
        "#@markdown your [account settings page](https://huggingface.co/settings/tokens).\n",
        "#@markdown The token is used for downloading the models, and is not required if you\n",
        "#@markdown have disabled the `drive_model_download_missing` setting.\n",
        "\n",
        "!pip install --quiet huggingface_hub\n",
        "\n",
        "from google.colab import output\n",
        "from huggingface_hub import notebook_login\n",
        "\n",
        "output.enable_custom_widget_manager()\n",
        "notebook_login()"
      ]
    },
    {
      "cell_type": "markdown",
      "metadata": {
        "id": "uin0-e6wgvjm"
      },
      "source": [
        "## 📦 Requirements"
      ]
    },
    {
      "cell_type": "code",
      "execution_count": null,
      "metadata": {
        "cellView": "form",
        "id": "wI6EY030hCwd"
      },
      "outputs": [],
      "source": [
        "#@title Dependencies { vertical-output: true }\n",
        "\n",
        "#@markdown This step downloads Python dependencies required by the Diffusers library.\n",
        "\n",
        "!pip install --quiet diffusers==0.2.4 transformers scipy ftfy 'ipywidgets>=7,<8' python-slugify"
      ]
    },
    {
      "cell_type": "code",
      "execution_count": null,
      "metadata": {
        "cellView": "form",
        "id": "VzIgBbauBgn7"
      },
      "outputs": [],
      "source": [
        "#@title File name generation\n",
        "\n",
        "#@markdown This step defines a function which is used for generating names for\n",
        "#@markdown the output files written to Google Drive.\n",
        "\n",
        "import os\n",
        "import binascii\n",
        "from pathlib import Path\n",
        "from slugify import slugify\n",
        "\n",
        "def prompt_to_file_path(text_prompt):\n",
        "  LOOP_MAX = 16\n",
        "  slug = slugify(text_prompt)\n",
        "  trun = slug[:16].rstrip('-')\n",
        "  rand = binascii.b2a_hex(os.urandom(4)).decode()\n",
        "  for _ in range(LOOP_MAX):\n",
        "    name = '/{}-{}.png'.format(slug, rand)\n",
        "    path = drive_full_output_path + name\n",
        "    if not Path(path).exists():\n",
        "      return path\n",
        "  raise Exception('Unable to create an unique filename')"
      ]
    },
    {
      "cell_type": "code",
      "execution_count": null,
      "metadata": {
        "cellView": "form",
        "id": "qFYwcIkT20c_"
      },
      "outputs": [],
      "source": [
        "#@title Create pipeline { vertical-output: true }\n",
        "\n",
        "#@markdown This step creates and configures a Diffusers library\n",
        "#@markdown `StableDiffusionPipeline`, which is required for the next steps.\n",
        "\n",
        "#@markdown If the chosen generation model must be obtained from Hugging Face (e.g.\n",
        "#@markdown because it is not already in your Google Drive), downloading will\n",
        "#@markdown also be performed in this step.\n",
        "\n",
        "#@markdown Please ensure that your Google Drive account has enough free space. For\n",
        "#@markdown reference, the half precision version of the Stable Diffusion v1.4 model\n",
        "#@markdown requires around 5.1 GB of storage.\n",
        "\n",
        "import torch\n",
        "from diffusers import StableDiffusionPipeline\n",
        "\n",
        "def disabled_safety_filter(images, **kwargs):\n",
        "  return images, False\n",
        "\n",
        "if model_clone_branch == 'fp16':\n",
        "  torch_dtype = torch.float16\n",
        "else:\n",
        "  torch_dtype = torch.float32\n",
        "\n",
        "pipe = StableDiffusionPipeline.from_pretrained(\n",
        "    model_clone_repository,\n",
        "    torch_dtype=torch_dtype,\n",
        "    cache_dir=drive_full_model_path,\n",
        "    local_files_only=(not drive_model_download_missing),\n",
        "    use_auth_token=drive_model_download_missing\n",
        "  )\n",
        "\n",
        "pipe = pipe.to('cuda')\n",
        "\n",
        "if not enable_safety_filter:\n",
        "  pipe.safety_checker = disabled_safety_filter"
      ]
    },
    {
      "cell_type": "markdown",
      "metadata": {
        "id": "uE9yMxmv-S6S"
      },
      "source": [
        "## 🎨 Usage"
      ]
    },
    {
      "cell_type": "code",
      "execution_count": null,
      "metadata": {
        "cellView": "form",
        "id": "ihx2lf4I-alZ"
      },
      "outputs": [],
      "source": [
        "#@title Text-to-Image { vertical-output: true }\n",
        "\n",
        "text_prompt = '' #@param { \"type\": \"string\" }\n",
        "\n",
        "height = 512 #@param {type:\"slider\", min:128, max:1024, step:128}\n",
        "width = 512 #@param {type:\"slider\", min:128, max:1024, step:128}\n",
        "num_inference_steps = 50 #@param {type:\"slider\", min:1, max:100, step:1}\n",
        "guidance_scale = 7.5 #@param {type:\"slider\", min:0, max:30, step:0.5}\n",
        "use_random_seed = True #@param { \"type\": \"boolean\" }\n",
        "manual_seed = 0 #@param {type:\"integer\"}\n",
        "\n",
        "generator = torch.Generator(device='cuda')\n",
        "if use_random_seed:\n",
        "  generator.seed()\n",
        "else:\n",
        "  generator.manual_seed(manual_seed)\n",
        "\n",
        "with torch.autocast('cuda'):\n",
        "  output = pipe(\n",
        "    text_prompt,\n",
        "    height=height,\n",
        "    width=width,\n",
        "    num_inference_steps=num_inference_steps,\n",
        "    guidance_scale=guidance_scale,\n",
        "    generator=generator\n",
        "  )['sample'][0]\n",
        "\n",
        "# Save to Google Drive if the corresponding setting is enabled\n",
        "if drive_output_autosave:\n",
        "  image_path = prompt_to_file_path(text_prompt)\n",
        "  output.save(image_path)\n",
        "\n",
        "# Show output directly on Colab\n",
        "output"
      ]
    }
  ],
  "metadata": {
    "accelerator": "GPU",
    "colab": {
      "collapsed_sections": [],
      "private_outputs": true,
      "provenance": []
    },
    "gpuClass": "standard",
    "kernelspec": {
      "display_name": "Python 3",
      "name": "python3"
    },
    "language_info": {
      "name": "python"
    }
  },
  "nbformat": 4,
  "nbformat_minor": 0
}
